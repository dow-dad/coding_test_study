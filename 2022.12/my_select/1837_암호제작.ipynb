{
  "nbformat": 4,
  "nbformat_minor": 0,
  "metadata": {
    "colab": {
      "provenance": []
    },
    "kernelspec": {
      "name": "python3",
      "display_name": "Python 3"
    },
    "language_info": {
      "name": "python"
    }
  },
  "cells": [
    {
      "cell_type": "markdown",
      "source": [
        "### 백준 - 1837\n",
        "### 암호제작\n",
        "원룡이는 한 컴퓨터 보안 회사에서 일을 하고 있다. 그러던 도중, 원룡이는 YESWOA.COM 으로부터 홈페이지 유저들의 비밀키를 만들라는 지시를 받았다. 원룡이는 비밀 키를 다음과 같은 방법으로 만들었다.\n",
        "\n",
        "개인마다 어떤 특정한 소수 p와 q를 주어 두 소수의 곱 pq를 비밀 키로 두었다. 이렇게 해 주면 두 소수 p,q를 알지 못하는 이상, 비밀 키를 알 수 없다는 장점을 가지고 있다.\n",
        "\n",
        "하지만 원룡이는 한 가지 사실을 잊고 말았다. 최근 컴퓨터 기술이 발달함에 따라, 소수가 작은 경우에는 컴퓨터로 모든 경우의 수를 돌려보아 비밀 키를 쉽게 알 수 있다는 것이다.\n",
        "\n",
        "원룡이는 주성조교님께 비밀 키를 제출하려던 바로 직전에 이 사실을 알아냈다. 그래서 두 소수 p, q 중 하나라도 K보다 작은 암호는 좋지 않은 암호로 간주하여 제출하지 않기로 하였다. 이것을 손으로 직접 구해보는 일은 매우 힘들 것이다. 당신은 원룡이를 도와 두 소수의 곱으로 이루어진 암호와 K가 주어져 있을 때, 그 암호가 좋은 암호인지 좋지 않은 암호인지 구하는 프로그램을 작성하여야 한다."
      ],
      "metadata": {
        "id": "ll6I9nSCd5KI"
      }
    },
    {
      "cell_type": "markdown",
      "source": [
        "![image.png](data:image/png;base64,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)"
      ],
      "metadata": {
        "id": "S4qzK_f5eFMX"
      }
    },
    {
      "cell_type": "markdown",
      "source": [
        "## [ 입력 ]\n",
        "암호 P(4 ≤ P ≤ 10100)와 K (2 ≤ K ≤ 106) 이 주어진다.\n",
        "\n",
        "## [ 출력 ]\n",
        "만약에 그 암호가 좋은 암호이면 첫째 줄에 GOOD을 출력하고, 만약에 좋지 않은 암호이면 BAD와 소수 r을 공백으로 구분하여 출력하는데 r은 암호를 이루는 두 소수 중 작은 소수를 의미한다.\n",
        "\n",
        "\n",
        "### [ 입력 예제 1 ]\n",
        "143 10\n",
        "\n",
        "### [ 출력 예제 1 ]\n",
        "GOOD\n",
        "\n",
        "### [ 입력 예제 2 ]\n",
        "77 12\n",
        "\n",
        "### [ 예제 출력 2 ]\n",
        "BAD 7"
      ],
      "metadata": {
        "id": "GFGtP_CWeHYf"
      }
    },
    {
      "cell_type": "code",
      "execution_count": null,
      "metadata": {
        "id": "cq9fqmRjdzus"
      },
      "outputs": [],
      "source": [
        "\"\"\"\n",
        "풀이 ▽ / 사용언어 : Python3 \n",
        "\"\"\""
      ]
    },
    {
      "cell_type": "code",
      "source": [
        "\"\"\"\n",
        "위 문제에 대해 찾아낸 풀이 조건\n",
        "1. 'p' 와 'q'는 모두 소수이다.\n",
        "2. 비밀번호 값인 'pq' 는 1번,2번 조건에 해당하는 p 와 q의 곱으로 정해진다.\n",
        "3. 'p' 와 'q'는 K 보다 작지 않아야 한다 ,( 이때,2 ≤ K ≤ 106)\n",
        "4. K의 값이 좋은 암호이면 'GOOD' 문자열 을 출력, 좋지않다면 'BAD' 문자열과 두 소수 중 작은 소수인 'r'을 출력한다.\n",
        "'''"
      ],
      "metadata": {
        "id": "IZR6q_-AfWdS"
      },
      "execution_count": null,
      "outputs": []
    },
    {
      "cell_type": "code",
      "source": [
        "p, k = map(int, input().split())\n",
        "result = True\n",
        "\n",
        "for i in range(2,k):\n",
        "    if p % i == 0:\n",
        "      print('BAD', i)\n",
        "      result = False\n",
        "      break\n",
        "      \n",
        "    if p % i != 0:\n",
        "      result = True\n",
        "\n",
        "if result :\n",
        "  print('GOOD')"
      ],
      "metadata": {
        "colab": {
          "base_uri": "https://localhost:8080/"
        },
        "id": "7289fZkkabmS",
        "outputId": "91585998-689a-42e0-b496-836faa0e871a"
      },
      "execution_count": 2,
      "outputs": [
        {
          "output_type": "stream",
          "name": "stdout",
          "text": [
            "143 10\n",
            "GOOD\n"
          ]
        }
      ]
    },
    {
      "cell_type": "code",
      "source": [
        "#[ 예제 입력 1 ]\n",
        "p, k = map(int, input().split())\n",
        "print('-'*50)\n",
        "print('입력된 값 :', ' p =', p , ', k = ', k)\n",
        "\n",
        "result = True\n",
        "\n",
        "for i in range(2,k):\n",
        "    if p % i == 0:\n",
        "      print('-'*50)\n",
        "      print('결과 ▽')\n",
        "      print('BAD , 가장작은 소수 =', i)\n",
        "      result = False\n",
        "      break\n",
        "      \n",
        "    if p % i != 0:\n",
        "      result = True\n",
        "\n",
        "if result :\n",
        "  print('-'*50)\n",
        "  print('결과 ▽')\n",
        "  print('GOOD')"
      ],
      "metadata": {
        "id": "m_plnGJYhRRZ",
        "colab": {
          "base_uri": "https://localhost:8080/"
        },
        "outputId": "eca1f75c-f373-45aa-d742-bb689bb7f2aa"
      },
      "execution_count": 3,
      "outputs": [
        {
          "output_type": "stream",
          "name": "stdout",
          "text": [
            "143 10\n",
            "--------------------------------------------------\n",
            "입력된 값 :  p = 143 , k =  10\n",
            "--------------------------------------------------\n",
            "결과 ▽\n",
            "GOOD\n"
          ]
        }
      ]
    },
    {
      "cell_type": "code",
      "source": [
        "#[ 예제 입력 2 ] \n",
        "p, k = map(int, input().split())\n",
        "print('-'*50)\n",
        "print('입력된 값 :', ' p =', p , ', k = ', k)\n",
        "\n",
        "result = True\n",
        "\n",
        "for i in range(2,k):\n",
        "    if p % i == 0:\n",
        "      print('-'*50)\n",
        "      print('결과 ▽')\n",
        "      print('BAD , 가장작은 소수 =', i)\n",
        "      result = False\n",
        "      break\n",
        "      \n",
        "    if p % i != 0:\n",
        "      result = True\n",
        "\n",
        "if result :\n",
        "  print('-'*50)\n",
        "  print('결과 ▽')\n",
        "  print('GOOD')"
      ],
      "metadata": {
        "colab": {
          "base_uri": "https://localhost:8080/"
        },
        "id": "bYESd6uIFn6A",
        "outputId": "b5a17e2b-91ab-47bb-c4c5-38a4b83f7970"
      },
      "execution_count": 4,
      "outputs": [
        {
          "output_type": "stream",
          "name": "stdout",
          "text": [
            "77 12\n",
            "--------------------------------------------------\n",
            "입력된 값 :  p = 77 , k =  12\n",
            "--------------------------------------------------\n",
            "결과 ▽\n",
            "BAD , 가장작은 소수 = 7\n"
          ]
        }
      ]
    },
    {
      "cell_type": "code",
      "source": [],
      "metadata": {
        "id": "-W7IFvrkafxm"
      },
      "execution_count": null,
      "outputs": []
    }
  ]
}