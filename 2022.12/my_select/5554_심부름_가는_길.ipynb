{
  "nbformat": 4,
  "nbformat_minor": 0,
  "metadata": {
    "colab": {
      "provenance": []
    },
    "kernelspec": {
      "name": "python3",
      "display_name": "Python 3"
    },
    "language_info": {
      "name": "python"
    }
  },
  "cells": [
    {
      "cell_type": "markdown",
      "source": [
        "승균이는 매일 학교, PC방, 학원에 다닌다. 반복되는 일상에 익숙해진 승균이는 이동시간을 단축해서 PC방에 더 오래 머물고 싶었다. 그래서 스톱워치를 들고 이동할 때마다 기록을 잰 후 집에 가서 분석해보기로 했다.\n",
        "\n",
        "집에 도착한 승균이는 측정한 결과를 보는 데, 전부 초 단위로 기록되어있다! 맨날 놀기만 해서 총 이동 시간이 몇 분 몇 초인지 계산을 못 하는 승균이를 도와주자.\n",
        "\n",
        "하루 동안 측정한 결과가 주어지면, 이날의 총 이동 시간이 몇 분 몇 초인지 출력하는 프로그램을 작성하시오.\n",
        "\n",
        "###[입력]\n",
        "입력은 총 4줄이며, 한 줄에 하나씩 양의 정수가 적혀있다.\n",
        "\n",
        "첫 번째 줄에 집에서 학교까지의 이동 시간을 나타내는 초가 주어진다.\n",
        "두 번째 줄에 학교에서 PC방까지의 이동 시간을 나타내는 초가 주어진다.\n",
        "세 번째 줄에 PC방에서 학원까지의 이동 시간을 나타내는 초가 주어진다. \n",
        "마지막 줄에 학원에서 집까지의 이동 시간을 나타내는 초가 주어진다.\n",
        "집에 늦게 가면 혼나기 때문에, 총 이동시간은 항상 1 분 0 초 이상 59 분 59 초 이하이다.\n",
        "\n",
        "### [출력]\n",
        "총 이동시간 x 분 y 초를 출력한다. 첫 번째 줄에 x를, 두 번째 줄에 y를 출력한다.\n",
        "\n",
        "https://www.acmicpc.net/problem/5554"
      ],
      "metadata": {
        "id": "wdLCs-4VGWua"
      }
    },
    {
      "cell_type": "code",
      "execution_count": 2,
      "metadata": {
        "colab": {
          "base_uri": "https://localhost:8080/"
        },
        "id": "QC0FgPE7F9Bj",
        "outputId": "56be1eed-556c-4b1f-f935-d8e996627d51"
      },
      "outputs": [
        {
          "output_type": "stream",
          "name": "stdout",
          "text": [
            "31\n",
            "34\n",
            "7\n",
            "151\n",
            "3\n",
            "43\n"
          ]
        }
      ],
      "source": [
        "to_school = int(input())\n",
        "to_PC = int(input())\n",
        "to_academy = int(input())\n",
        "to_home = int(input())\n",
        "\n",
        "total = to_school + to_PC + to_academy + to_home\n",
        "\n",
        "x = int(total//60)\n",
        "y = int(total - (x * 60))\n",
        "print(x)\n",
        "print(y)"
      ]
    },
    {
      "cell_type": "code",
      "source": [
        "to_school = int(input())\n",
        "to_PC = int(input())\n",
        "to_academy = int(input())\n",
        "to_home = int(input())\n",
        "\n",
        "total = to_school + to_PC + to_academy + to_home\n",
        "\n",
        "x = int(total//60)\n",
        "y = int(total - (x * 60))\n",
        "print(x)\n",
        "print(y)"
      ],
      "metadata": {
        "colab": {
          "base_uri": "https://localhost:8080/"
        },
        "id": "84qZ6TMcHHnb",
        "outputId": "60519b49-103e-49dd-8517-d1e53c8d57f1"
      },
      "execution_count": 3,
      "outputs": [
        {
          "output_type": "stream",
          "name": "stdout",
          "text": [
            "316\n",
            "430\n",
            "643\n",
            "1253\n",
            "44\n",
            "2\n"
          ]
        }
      ]
    },
    {
      "cell_type": "code",
      "source": [
        "to_school = int(input())\n",
        "to_PC = int(input())\n",
        "to_academy = int(input())\n",
        "to_home = int(input())\n",
        "\n",
        "total = to_school + to_PC + to_academy + to_home\n",
        "\n",
        "x = int(total//60)\n",
        "y = int(total - (x * 60))\n",
        "print(x)\n",
        "print(y)"
      ],
      "metadata": {
        "colab": {
          "base_uri": "https://localhost:8080/"
        },
        "id": "Ni6tMd_pxblC",
        "outputId": "f7f646e9-7568-43c2-94ad-0790746eb8c3"
      },
      "execution_count": 4,
      "outputs": [
        {
          "output_type": "stream",
          "name": "stdout",
          "text": [
            "5\n",
            "10\n",
            "15\n",
            "30\n",
            "1\n",
            "0\n"
          ]
        }
      ]
    }
  ]
}