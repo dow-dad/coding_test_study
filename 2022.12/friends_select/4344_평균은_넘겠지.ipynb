{
  "cells": [
    {
      "cell_type": "markdown",
      "metadata": {
        "id": "5qr8trWSu5Mw"
      },
      "source": [
        "대학생 새내기들의 90%는 자신이 반에서 평균은 넘는다고 생각한다. 당신은 그들에게 슬픈 진실을 알려줘야 한다.\n",
        "\n",
        "### [입력]\n",
        "첫째 줄에는 테스트 케이스의 개수 C가 주어진다.\n",
        "\n",
        "둘째 줄부터 각 테스트 케이스마다 학생의 수 N(1 ≤ N ≤ 1000, N은 정수)이 첫 수로 주어지고, 이어서 N명의 점수가 주어진다. 점수는 0보다 크거나 같고, 100보다 작거나 같은 정수이다."
      ]
    },
    {
      "cell_type": "markdown",
      "source": [
        "https://www.acmicpc.net/problem/4344"
      ],
      "metadata": {
        "id": "0vT-kljdDZQB"
      }
    },
    {
      "cell_type": "code",
      "execution_count": 20,
      "metadata": {
        "colab": {
          "base_uri": "https://localhost:8080/"
        },
        "id": "iU6gQxWHu15I",
        "outputId": "262418c3-4101-4a8f-e73c-11583c9ecfe9"
      },
      "outputs": [
        {
          "output_type": "stream",
          "name": "stdout",
          "text": [
            "5\n",
            "5 50 50 70 80 100\n",
            "40.000%\n",
            "7 100 95 90 80 70 60 50\n",
            "57.143%\n",
            "3 70 90 80\n",
            "33.333%\n",
            "3 70 90 91\n",
            "66.667%\n",
            "9 100 99 98 97 96 95 94 93 91\n",
            "55.556%\n"
          ]
        }
      ],
      "source": [
        "test_case = int(input()) #테스트 케이스 개수 입력\n",
        "\n",
        "for i in range(test_case): #test_case 만큼 입력을 반복하여 받는다\n",
        "  scores = list(map(int, input().split())) #입력받은 값을 scores 라는 리스트안에 담아준다. \n",
        "  average = sum(scores[1:])/scores[0] # scores[0] = 학생 수 , scores[1:] = 입력된 각 학생들의 점수 \n",
        "  \n",
        "  result = 0 #평균이 넘는 학생 수를 세기 위한 변수 지정\n",
        "  for score in scores[1:]: #위에 저장된 scores리스트에서 인덱스가 1인 것 부터 scorefh 지정\n",
        "    if score > average:\n",
        "      result += 1  #score가 평균보다 클 경우 result 변수에 1을 더한다.\n",
        "\n",
        "  p = (result/scores[0])*100\n",
        "  print('{0:.3f}'.format(p)+'%')  # '{0:3f}.format(변수 또는 값)' = 소수 세번째 자리까지 표기하라는 format함수"
      ]
    },
    {
      "cell_type": "code",
      "source": [],
      "metadata": {
        "id": "HhDkAo2KDurK"
      },
      "execution_count": null,
      "outputs": []
    }
  ],
  "metadata": {
    "colab": {
      "provenance": []
    },
    "kernelspec": {
      "display_name": "Python 3",
      "name": "python3"
    },
    "language_info": {
      "name": "python"
    }
  },
  "nbformat": 4,
  "nbformat_minor": 0
}