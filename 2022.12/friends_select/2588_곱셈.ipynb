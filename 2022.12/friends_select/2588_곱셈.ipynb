{
  "nbformat": 4,
  "nbformat_minor": 0,
  "metadata": {
    "colab": {
      "provenance": []
    },
    "kernelspec": {
      "name": "python3",
      "display_name": "Python 3"
    },
    "language_info": {
      "name": "python"
    }
  },
  "cells": [
    {
      "cell_type": "markdown",
      "source": [
        "세 자리 수) × (세 자리 수)는 다음과 같은 과정을 통하여 이루어진다.\n",
        "\n",
        "(1)과 (2)위치에 들어갈 세 자리 자연수가 주어질 때 (3), (4), (5), (6)위치에 들어갈 값을 구하는 프로그램을 작성하시오."
      ],
      "metadata": {
        "id": "zXyYgyfsKyBy"
      }
    },
    {
      "cell_type": "markdown",
      "source": [
        "![image.png](data:image/png;base64,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)"
      ],
      "metadata": {
        "id": "snie5lqAK6tH"
      }
    },
    {
      "cell_type": "markdown",
      "source": [
        "### [ 입력 ]\n",
        "첫째 줄에 (1)의 위치에 들어갈 세 자리 자연수가, 둘째 줄에 (2)의 위치에 들어갈 세자리 자연수가 주어진다.\n",
        "\n",
        "### [ 출력 ]\n",
        "첫째 줄부터 넷째 줄까지 차례대로 (3), (4), (5), (6)에 들어갈 값을 출력한다.\n",
        "\n",
        "### [ 예제 입력 1 ]\n",
        "472\n",
        "385\n",
        "\n",
        "### [ 예제 출력 1 ]\n",
        "2360\n",
        "3776\n",
        "1416\n",
        "181720"
      ],
      "metadata": {
        "id": "Q6X5ZNa5K8Pn"
      }
    },
    {
      "cell_type": "code",
      "source": [
        "\"\"\"\n",
        "풀이 방법\n",
        "두번째 입력받은 수를 자릿수 숫자별로 나눈 후 각각 첫번 째 입력된 수에 곱해주어 결과 출력\n",
        "\"\"\""
      ],
      "metadata": {
        "id": "elaNCKKwK6i_"
      },
      "execution_count": null,
      "outputs": []
    },
    {
      "cell_type": "code",
      "execution_count": 1,
      "metadata": {
        "colab": {
          "base_uri": "https://localhost:8080/"
        },
        "id": "nh6MAq2oKvQJ",
        "outputId": "8c18ed90-fbdb-43c9-e5b4-53b6a0df78e2"
      },
      "outputs": [
        {
          "output_type": "stream",
          "name": "stdout",
          "text": [
            "472\n",
            "385\n",
            "2360\n",
            "3776\n",
            "1416\n",
            "181720\n"
          ]
        }
      ],
      "source": [
        "a = int(input())\n",
        "b = input()\n",
        "\n",
        "result_3 = a * int(b[2])\n",
        "result_4 = a * int(b[1])\n",
        "result_5 = a * int(b[0])\n",
        "result_6 = a * int(b)\n",
        "\n",
        "print(result_3)\n",
        "print(result_4)\n",
        "print(result_5)\n",
        "print(result_6)"
      ]
    },
    {
      "cell_type": "code",
      "source": [
        "a = int(input())\n",
        "b = input()\n",
        "\n",
        "result_3 = a * int(b[2])\n",
        "result_4 = a * int(b[1])\n",
        "result_5 = a * int(b[0])\n",
        "result_6 = a * int(b)\n",
        "\n",
        "print('='*50)\n",
        "print('(3): ',result_3)\n",
        "print('(4): ',result_4)\n",
        "print('(5): ',result_5)\n",
        "print('(6): ',result_6)"
      ],
      "metadata": {
        "colab": {
          "base_uri": "https://localhost:8080/"
        },
        "id": "aa2iJpJ3MMnw",
        "outputId": "4c700c11-16f1-44e2-e90d-99e4a9454d51"
      },
      "execution_count": 2,
      "outputs": [
        {
          "output_type": "stream",
          "name": "stdout",
          "text": [
            "472\n",
            "385\n",
            "==================================================\n",
            "(3):  2360\n",
            "(4):  3776\n",
            "(5):  1416\n",
            "(6):  181720\n"
          ]
        }
      ]
    },
    {
      "cell_type": "code",
      "source": [],
      "metadata": {
        "id": "cIEY_1YWOG3v"
      },
      "execution_count": null,
      "outputs": []
    }
  ]
}