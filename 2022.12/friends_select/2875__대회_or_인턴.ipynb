{
  "nbformat": 4,
  "nbformat_minor": 0,
  "metadata": {
    "colab": {
      "provenance": []
    },
    "kernelspec": {
      "name": "python3",
      "display_name": "Python 3"
    },
    "language_info": {
      "name": "python"
    }
  },
  "cells": [
    {
      "cell_type": "markdown",
      "source": [
        "백준대학교에서는 대회에 나갈 때 2명의 여학생과 1명의 남학생이 팀을 결성해서 나가는 것이 원칙이다. (왜인지는 총장님께 여쭈어보는 것이 좋겠다.)\n",
        "\n",
        "백준대학교는 뛰어난 인재들이 많아 올해에도 N명의 여학생과 M명의 남학생이 팀원을 찾고 있다. 대회에 참여하려는 학생들 중 K명은 반드시 인턴쉽 프로그램에 참여해야 한다. 인턴쉽에 참여하는 학생은 대회에 참여하지 못한다.\n",
        "\n",
        "백준대학교에서는 뛰어난 인재들이 많기 때문에, 많은 팀을 만드는 것이 최선이다.\n",
        "\n",
        "여러분은 여학생의 수 N, 남학생의 수 M, 인턴쉽에 참여해야하는 인원 K가 주어질 때 만들 수 있는 최대의 팀 수를 구하면 된다.\n",
        "###[입력]\n",
        "첫째 줄에 N, M, K가 순서대로 주어진다. (0 ≤ M ≤ 100, 0 ≤ N ≤ 100, 0 ≤ K ≤ M+N),\n",
        "###[출력]\n",
        "만들 수 있는 팀의 최대 개수을 출력하면 된다."
      ],
      "metadata": {
        "id": "i6rXeTcJxzEb"
      }
    },
    {
      "cell_type": "code",
      "execution_count": 4,
      "metadata": {
        "colab": {
          "base_uri": "https://localhost:8080/"
        },
        "id": "9Y7Gz8cqxok0",
        "outputId": "106566e9-a568-4208-d994-04cdfcd818b9"
      },
      "outputs": [
        {
          "output_type": "stream",
          "name": "stdout",
          "text": [
            "6 3 2\n",
            "2\n"
          ]
        }
      ],
      "source": [
        "N, M ,K = map(int, input().split())\n",
        "Team = 0\n",
        "\n",
        "while N >= 2 and M >= 1 and N + M >= K+3: \n",
        "# 팀을 구성하기 위해선 인턴쉽 인원 K 를 제외하고 3명 이상 있어야 하기에, 여학생은 2명 이상, 남학생은 1명 이상있어야 하기에 이조건을 붙였다.\n",
        "    N -= 2\t# 빼주고\n",
        "    M -= 1\t# 빼주고\n",
        "    Team += 1\t# 팀 수는 하나씩 더해준다\n",
        "\n",
        "print(Team)"
      ]
    },
    {
      "cell_type": "code",
      "source": [
        "N, M ,K = map(int, input().split())\n",
        "Team = 0\n",
        "\n",
        "while N >= 2 and M >= 1 and N + M >= K+3: \n",
        "# 팀을 구성하기 위해선 인턴쉽 인원 K 를 제외하고 3명 이상 있어야 하기에, 여학생은 2명 이상, 남학생은 1명 이상있어야 하기에 이조건을 붙였다.\n",
        "    N -= 2\t# 빼주고\n",
        "    M -= 1\t# 빼주고\n",
        "    Team += 1\t# 팀 수는 하나씩 더해준다\n",
        "\n",
        "print(Team)"
      ],
      "metadata": {
        "colab": {
          "base_uri": "https://localhost:8080/"
        },
        "id": "l1MvK6t3yD2r",
        "outputId": "e4f7463c-6cee-42e2-de5e-86062c780955"
      },
      "execution_count": 5,
      "outputs": [
        {
          "output_type": "stream",
          "name": "stdout",
          "text": [
            "6 10 3\n",
            "3\n"
          ]
        }
      ]
    },
    {
      "cell_type": "code",
      "source": [],
      "metadata": {
        "id": "10fA35NMH7iT"
      },
      "execution_count": null,
      "outputs": []
    }
  ]
}